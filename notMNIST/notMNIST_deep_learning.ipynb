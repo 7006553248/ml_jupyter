{
 "cells": [
  {
   "cell_type": "code",
   "execution_count": 1,
   "metadata": {
    "collapsed": true
   },
   "outputs": [],
   "source": [
    "from __future__ import print_function\n",
    "import numpy as np\n",
    "import tensorflow as tf\n",
    "from six.moves import cPickle as pickle\n",
    "from six.moves import range"
   ]
  },
  {
   "cell_type": "code",
   "execution_count": 2,
   "metadata": {
    "collapsed": true
   },
   "outputs": [],
   "source": [
    "pickle_file = 'notMNIST.pickle'"
   ]
  },
  {
   "cell_type": "code",
   "execution_count": 3,
   "metadata": {
    "collapsed": false
   },
   "outputs": [
    {
     "name": "stdout",
     "output_type": "stream",
     "text": [
      "Training set (200000, 28, 28) (200000,)\n",
      "Validation set (10000, 28, 28) (10000,)\n",
      "Test set (18724, 28, 28) (18724,)\n"
     ]
    }
   ],
   "source": [
    "with open(pickle_file, 'rb') as f:\n",
    "  save = pickle.load(f)\n",
    "  train_dataset = save['train_dataset']\n",
    "  train_labels = save['train_labels']\n",
    "  valid_dataset = save['valid_dataset']\n",
    "  valid_labels = save['valid_labels']\n",
    "  test_dataset = save['test_dataset']\n",
    "  test_labels = save['test_labels']\n",
    "  del save \n",
    "  print('Training set', train_dataset.shape, train_labels.shape)\n",
    "  print('Validation set', valid_dataset.shape, valid_labels.shape)\n",
    "  print('Test set', test_dataset.shape, test_labels.shape)"
   ]
  },
  {
   "cell_type": "code",
   "execution_count": 4,
   "metadata": {
    "collapsed": false
   },
   "outputs": [
    {
     "name": "stdout",
     "output_type": "stream",
     "text": [
      "Training set (200000, 784) (200000, 10)\n",
      "Validation set (10000, 784) (10000, 10)\n",
      "Test set (18724, 784) (18724, 10)\n"
     ]
    }
   ],
   "source": [
    "image_size = 28\n",
    "num_labels = 10\n",
    "\n",
    "def reformat(dataset, labels):\n",
    "  dataset = dataset.reshape((-1, image_size * image_size)).astype(np.float32)\n",
    "  labels = (np.arange(num_labels) == labels[:,None]).astype(np.float32)\n",
    "  return dataset, labels\n",
    "train_dataset, train_labels = reformat(train_dataset, train_labels)\n",
    "valid_dataset, valid_labels = reformat(valid_dataset, valid_labels)\n",
    "test_dataset, test_labels = reformat(test_dataset, test_labels)\n",
    "print('Training set', train_dataset.shape, train_labels.shape)\n",
    "print('Validation set', valid_dataset.shape, valid_labels.shape)\n",
    "print('Test set', test_dataset.shape, test_labels.shape)"
   ]
  },
  {
   "cell_type": "code",
   "execution_count": 5,
   "metadata": {
    "collapsed": true
   },
   "outputs": [],
   "source": [
    "train_subset = 10000\n",
    "graph = tf.Graph()\n",
    "\n",
    "with graph.as_default():\n",
    "    tf_train_dataset = tf.constant(train_dataset[:train_subset,:])\n",
    "    tf_train_labels = tf.constant(train_labels[:train_subset,:])\n",
    "    tf_valid_dataset = tf.constant(valid_dataset)\n",
    "    tf_test_dataset = tf.constant(test_dataset)\n",
    "    \n",
    "    weights = tf.Variable(tf.truncated_normal([image_size * image_size, num_labels]))\n",
    "    biases = tf.Variable(tf.zeros([num_labels]))\n",
    "    \n",
    "    logits = tf.matmul(tf_train_dataset,weights) + biases\n",
    "    loss = tf.reduce_mean(tf.nn.softmax_cross_entropy_with_logits(labels=tf_train_labels,logits=logits))\n",
    "    \n",
    "    optimizer = tf.train.GradientDescentOptimizer(0.5).minimize(loss)\n",
    "    \n",
    "    \n",
    "    train_prediction = tf.nn.softmax(logits)\n",
    "    valid_prediction = tf.nn.softmax(tf.matmul(tf_valid_dataset,weights)+biases)\n",
    "    test_prediction = tf.nn.softmax(tf.matmul(tf_test_dataset,weights)+biases)"
   ]
  },
  {
   "cell_type": "code",
   "execution_count": 6,
   "metadata": {
    "collapsed": false
   },
   "outputs": [
    {
     "name": "stdout",
     "output_type": "stream",
     "text": [
      "Intialized\n",
      "Loss at 0th step: 18.0243\n",
      "Training Accuracy: 9.91%\n",
      "Validation Accuracy: 12.1%\n",
      "\n",
      "\n",
      "Loss at 100th step: 2.31926\n",
      "Training Accuracy: 71.8%\n",
      "Validation Accuracy: 70.46%\n",
      "\n",
      "\n",
      "Loss at 200th step: 1.86376\n",
      "Training Accuracy: 74.63%\n",
      "Validation Accuracy: 72.98%\n",
      "\n",
      "\n",
      "Loss at 300th step: 1.61119\n",
      "Training Accuracy: 75.78%\n",
      "Validation Accuracy: 73.96%\n",
      "\n",
      "\n",
      "Loss at 400th step: 1.44145\n",
      "Training Accuracy: 76.69%\n",
      "Validation Accuracy: 74.64%\n",
      "\n",
      "\n",
      "Loss at 500th step: 1.31735\n",
      "Training Accuracy: 77.46%\n",
      "Validation Accuracy: 74.82%\n",
      "\n",
      "\n",
      "Loss at 600th step: 1.2212\n",
      "Training Accuracy: 78.16%\n",
      "Validation Accuracy: 75.01%\n",
      "\n",
      "\n",
      "Loss at 700th step: 1.1438\n",
      "Training Accuracy: 78.69%\n",
      "Validation Accuracy: 75.32%\n",
      "\n",
      "\n",
      "Loss at 800th step: 1.07975\n",
      "Training Accuracy: 79.13%\n",
      "Validation Accuracy: 75.35%\n",
      "\n",
      "\n",
      "Test Accuracy: 82.6105533006%\n"
     ]
    }
   ],
   "source": [
    "num_steps = 801\n",
    "\n",
    "def accuracy(predictions,labels):\n",
    "    return ((100.0*np.sum(np.argmax(predictions,1)==np.argmax(labels,1)))/predictions.shape[0])\n",
    "\n",
    "with tf.Session(graph=graph) as session:\n",
    "    tf.global_variables_initializer().run()\n",
    "    print('Intialized')\n",
    "    for step in range(num_steps):\n",
    "        _,l,predictions = session.run([optimizer,loss,train_prediction])\n",
    "        if step%100==0:\n",
    "            print('Loss at',str(step)+'th step: '+str(l))\n",
    "            print('Training Accuracy: '+str(accuracy(predictions,train_labels[:train_subset,:]))+'%')\n",
    "            print('Validation Accuracy: '+str(accuracy(valid_prediction.eval(),valid_labels))+'%')\n",
    "            print('\\n')\n",
    "    print('Test Accuracy: '+str(accuracy(test_prediction.eval(),test_labels))+'%')"
   ]
  },
  {
   "cell_type": "code",
   "execution_count": 11,
   "metadata": {
    "collapsed": false
   },
   "outputs": [],
   "source": [
    "batch_size=128\n",
    "\n",
    "graph=tf.Graph()\n",
    "\n",
    "with graph.as_default():\n",
    "    tf_train_dataset = tf.placeholder(tf.float32,shape=(batch_size,image_size*image_size))\n",
    "    tf_train_labels = tf.placeholder(tf.float32,shape=(batch_size,num_labels))\n",
    "    tf_valid_dataset = tf.constant(valid_dataset)\n",
    "    tf_test_dataset = tf.constant(test_dataset)\n",
    "    \n",
    "    weights = tf.Variable(tf.truncated_normal([image_size*image_size,num_labels]))\n",
    "    biases = tf.Variable(tf.zeros([num_labels]))\n",
    "    \n",
    "    logits = tf.matmul(tf_train_dataset,weights)+biases\n",
    "    loss = tf.reduce_mean(tf.nn.softmax_cross_entropy_with_logits(labels=tf_train_labels,logits=logits))\n",
    "    \n",
    "    optimizer = tf.train.GradientDescentOptimizer(0.5).minimize(loss)\n",
    "    \n",
    "    train_prediction = tf.nn.softmax(logits)\n",
    "    valid_prediction = tf.nn.softmax(tf.matmul(tf_valid_dataset,weights)+biases)\n",
    "    test_prediction = tf.nn.softmax(tf.matmul(tf_test_dataset,weights)+biases)"
   ]
  },
  {
   "cell_type": "code",
   "execution_count": 12,
   "metadata": {
    "collapsed": false
   },
   "outputs": [
    {
     "name": "stdout",
     "output_type": "stream",
     "text": [
      "Initialized\n",
      "\n",
      "Minibatch Loss at step 0: 15.2654\n",
      "Minibatch Accuracy: 10.15625%\n",
      "Validation Accuracy: 10.48%\n",
      "\n",
      "\n",
      "Minibatch Loss at step 500: 1.74213\n",
      "Minibatch Accuracy: 70.3125%\n",
      "Validation Accuracy: 75.55%\n",
      "\n",
      "\n",
      "Minibatch Loss at step 1000: 1.01792\n",
      "Minibatch Accuracy: 78.125%\n",
      "Validation Accuracy: 76.61%\n",
      "\n",
      "\n",
      "Minibatch Loss at step 1500: 1.11873\n",
      "Minibatch Accuracy: 78.125%\n",
      "Validation Accuracy: 76.98%\n",
      "\n",
      "\n",
      "Minibatch Loss at step 2000: 0.874594\n",
      "Minibatch Accuracy: 74.21875%\n",
      "Validation Accuracy: 77.43%\n",
      "\n",
      "\n",
      "Minibatch Loss at step 2500: 0.694146\n",
      "Minibatch Accuracy: 81.25%\n",
      "Validation Accuracy: 78.37%\n",
      "\n",
      "\n",
      "Minibatch Loss at step 3000: 0.951319\n",
      "Minibatch Accuracy: 80.46875%\n",
      "Validation Accuracy: 78.42%\n",
      "\n",
      "\n",
      "Test Accuracy: 85.9218115787%\n"
     ]
    }
   ],
   "source": [
    "num_steps = 3001\n",
    "with tf.Session(graph=graph) as session:\n",
    "    tf.global_variables_initializer().run()\n",
    "    print('Initialized\\n')\n",
    "    for step in range(num_steps):\n",
    "        offset = (batch_size*step)%(train_labels.shape[0]-batch_size)\n",
    "        batch_data = train_dataset[offset:(offset+batch_size),:]\n",
    "        batch_labels = train_labels[offset:(offset+batch_size),:]\n",
    "        feed_dict = {tf_train_dataset : batch_data, tf_train_labels : batch_labels}\n",
    "        _,l,predictions = session.run([optimizer,loss,train_prediction],feed_dict=feed_dict)\n",
    "        \n",
    "        if step%500==0:\n",
    "            print('Minibatch Loss at step '+str(step)+': '+str(l))\n",
    "            print('Minibatch Accuracy: '+str(accuracy(predictions,batch_labels))+'%')\n",
    "            print('Validation Accuracy: '+str(accuracy(valid_prediction.eval(),valid_labels))+'%')\n",
    "            print('\\n')\n",
    "    print('Test Accuracy: '+str(accuracy(test_prediction.eval(),test_labels))+'%')"
   ]
  },
  {
   "cell_type": "code",
   "execution_count": 14,
   "metadata": {
    "collapsed": false
   },
   "outputs": [],
   "source": [
    "batch_size=128\n",
    "\n",
    "graph=tf.Graph()\n",
    "\n",
    "with graph.as_default():\n",
    "    tf_train_dataset = tf.placeholder(tf.float32,shape=(batch_size,image_size*image_size))\n",
    "    tf_train_labels = tf.placeholder(tf.float32,shape=(batch_size,num_labels))\n",
    "    tf_valid_dataset = tf.constant(valid_dataset)\n",
    "    tf_test_dataset = tf.constant(test_dataset)\n",
    "    \n",
    "    weights1 = tf.Variable(tf.truncated_normal([image_size*image_size,1024]))\n",
    "    biases1 = tf.Variable(tf.zeros([1024]))\n",
    "    \n",
    "    hidden_relu = tf.nn.relu(tf.matmul(tf_train_dataset,weights1)+biases1)\n",
    "    \n",
    "    weights2 = tf.Variable(tf.truncated_normal([1024,num_labels]))\n",
    "    biases2 = tf.Variable(tf.truncated_normal([num_labels]))\n",
    "    \n",
    "    \n",
    "    \n",
    "    logits = tf.matmul(hidden_relu,weights2)+biases2\n",
    "    loss = tf.reduce_mean(tf.nn.softmax_cross_entropy_with_logits(labels=tf_train_labels,logits=logits))\n",
    "    \n",
    "    optimizer = tf.train.GradientDescentOptimizer(0.5).minimize(loss)\n",
    "    \n",
    "    train_prediction = tf.nn.softmax(logits)\n",
    "    valid_prediction = tf.nn.softmax(tf.matmul(tf.nn.relu(tf.matmul(tf_valid_dataset,weights1)+biases1),weights2)+biases2)\n",
    "    test_prediction = tf.nn.softmax(tf.matmul(tf.nn.relu(tf.matmul(tf_test_dataset,weights1)+biases1),weights2)+biases2)"
   ]
  },
  {
   "cell_type": "code",
   "execution_count": 15,
   "metadata": {
    "collapsed": false
   },
   "outputs": [
    {
     "name": "stdout",
     "output_type": "stream",
     "text": [
      "Initialized\n",
      "\n",
      "Minibatch Loss at step 0: 310.456\n",
      "Minibatch Accuracy: 11.71875%\n",
      "Validation Accuracy: 29.87%\n",
      "\n",
      "\n",
      "Minibatch Loss at step 500: 17.988\n",
      "Minibatch Accuracy: 79.6875%\n",
      "Validation Accuracy: 80.25%\n",
      "\n",
      "\n",
      "Minibatch Loss at step 1000: 11.3474\n",
      "Minibatch Accuracy: 82.03125%\n",
      "Validation Accuracy: 80.53%\n",
      "\n",
      "\n",
      "Minibatch Loss at step 1500: 7.24724\n",
      "Minibatch Accuracy: 77.34375%\n",
      "Validation Accuracy: 73.67%\n",
      "\n",
      "\n",
      "Minibatch Loss at step 2000: 6.15726\n",
      "Minibatch Accuracy: 82.03125%\n",
      "Validation Accuracy: 81.78%\n",
      "\n",
      "\n",
      "Minibatch Loss at step 2500: 2.76865\n",
      "Minibatch Accuracy: 89.0625%\n",
      "Validation Accuracy: 81.87%\n",
      "\n",
      "\n",
      "Minibatch Loss at step 3000: 6.69691\n",
      "Minibatch Accuracy: 84.375%\n",
      "Validation Accuracy: 81.65%\n",
      "\n",
      "\n",
      "Test Accuracy: 88.6883144627%\n"
     ]
    }
   ],
   "source": [
    "num_steps = 3001\n",
    "with tf.Session(graph=graph) as session:\n",
    "    tf.global_variables_initializer().run()\n",
    "    print('Initialized\\n')\n",
    "    for step in range(num_steps):\n",
    "        offset = (batch_size*step)%(train_labels.shape[0]-batch_size)\n",
    "        batch_data = train_dataset[offset:(offset+batch_size),:]\n",
    "        batch_labels = train_labels[offset:(offset+batch_size),:]\n",
    "        feed_dict = {tf_train_dataset : batch_data, tf_train_labels : batch_labels}\n",
    "        _,l,predictions = session.run([optimizer,loss,train_prediction],feed_dict=feed_dict)\n",
    "        \n",
    "        if step%500==0:\n",
    "            print('Minibatch Loss at step '+str(step)+': '+str(l))\n",
    "            print('Minibatch Accuracy: '+str(accuracy(predictions,batch_labels))+'%')\n",
    "            print('Validation Accuracy: '+str(accuracy(valid_prediction.eval(),valid_labels))+'%')\n",
    "            print('\\n')\n",
    "    print('Test Accuracy: '+str(accuracy(test_prediction.eval(),test_labels))+'%')"
   ]
  },
  {
   "cell_type": "code",
   "execution_count": null,
   "metadata": {
    "collapsed": true
   },
   "outputs": [],
   "source": []
  }
 ],
 "metadata": {
  "anaconda-cloud": {},
  "kernelspec": {
   "display_name": "Python [conda root]",
   "language": "python",
   "name": "conda-root-py"
  },
  "language_info": {
   "codemirror_mode": {
    "name": "ipython",
    "version": 2
   },
   "file_extension": ".py",
   "mimetype": "text/x-python",
   "name": "python",
   "nbconvert_exporter": "python",
   "pygments_lexer": "ipython2",
   "version": "2.7.12"
  }
 },
 "nbformat": 4,
 "nbformat_minor": 1
}
